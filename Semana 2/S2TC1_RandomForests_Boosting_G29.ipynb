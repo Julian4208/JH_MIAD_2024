{
  "cells": [
    {
      "cell_type": "markdown",
      "metadata": {
        "id": "_JcnSRV7E35q"
      },
      "source": [
        "![image info](https://raw.githubusercontent.com/albahnsen/MIAD_ML_and_NLP/main/images/banner_1.png)"
      ]
    },
    {
      "cell_type": "markdown",
      "metadata": {
        "id": "BCZViSWZE352"
      },
      "source": [
        "# Taller: Construcción e implementación de modelos Bagging, Random Forest y XGBoost\n",
        "\n",
        "En este taller podrán poner en práctica sus conocimientos sobre la construcción e implementación de modelos de Bagging, Random Forest y XGBoost. El taller está constituido por 8 puntos, en los cuales deberan seguir las intrucciones de cada numeral para su desarrollo."
      ]
    },
    {
      "cell_type": "markdown",
      "metadata": {
        "id": "J-flssdEE355"
      },
      "source": [
        "## Datos predicción precio de automóviles\n",
        "\n",
        "En este taller se usará el conjunto de datos de Car Listings de Kaggle donde cada observación representa el precio de un automóvil teniendo en cuenta distintas variables como año, marca, modelo, entre otras. El objetivo es predecir el precio del automóvil. Para más detalles puede visitar el siguiente enlace: [datos](https://www.kaggle.com/jpayne/852k-used-car-listings)."
      ]
    },
    {
      "cell_type": "code",
      "execution_count": null,
      "metadata": {
        "id": "GyzzOTNgE356"
      },
      "outputs": [],
      "source": [
        "import warnings\n",
        "import numpy as np\n",
        "import pandas as pd\n",
        "from sklearn.model_selection import train_test_split, GridSearchCV\n",
        "from xgboost import XGBRegressor\n",
        "from sklearn.metrics import mean_squared_error\n",
        "from sklearn.metrics import r2_score\n",
        "warnings.filterwarnings('ignore')\n",
        "import matplotlib.pyplot as plt\n",
        "from sklearn.ensemble import RandomForestRegressor\n",
        "from sklearn.model_selection import cross_val_score\n",
        "from sklearn.metrics import mean_squared_error, mean_absolute_error\n",
        "import matplotlib.pyplot as plt"
      ]
    },
    {
      "cell_type": "code",
      "execution_count": null,
      "metadata": {
        "colab": {
          "base_uri": "https://localhost:8080/",
          "height": 206
        },
        "id": "0T_cyN7ME35-",
        "outputId": "874703e5-ffcb-4880-bdb9-8ddea712d78f"
      },
      "outputs": [
        {
          "output_type": "execute_result",
          "data": {
            "text/plain": [
              "     Price  Year  Mileage  M_Camry  M_Camry4dr  M_CamryBase  M_CamryL  \\\n",
              "7    21995  2014     6480    False       False        False      True   \n",
              "11   13995  2014    39972    False       False        False     False   \n",
              "167  17941  2016    18989    False       False        False     False   \n",
              "225  12493  2014    51330    False       False        False      True   \n",
              "270   7994  2007   116065    False        True        False     False   \n",
              "\n",
              "     M_CamryLE  M_CamrySE  M_CamryXLE  \n",
              "7        False      False       False  \n",
              "11        True      False       False  \n",
              "167      False       True       False  \n",
              "225      False      False       False  \n",
              "270      False      False       False  "
            ],
            "text/html": [
              "\n",
              "  <div id=\"df-e873b961-d9d4-4e10-9467-1e75a056c07d\" class=\"colab-df-container\">\n",
              "    <div>\n",
              "<style scoped>\n",
              "    .dataframe tbody tr th:only-of-type {\n",
              "        vertical-align: middle;\n",
              "    }\n",
              "\n",
              "    .dataframe tbody tr th {\n",
              "        vertical-align: top;\n",
              "    }\n",
              "\n",
              "    .dataframe thead th {\n",
              "        text-align: right;\n",
              "    }\n",
              "</style>\n",
              "<table border=\"1\" class=\"dataframe\">\n",
              "  <thead>\n",
              "    <tr style=\"text-align: right;\">\n",
              "      <th></th>\n",
              "      <th>Price</th>\n",
              "      <th>Year</th>\n",
              "      <th>Mileage</th>\n",
              "      <th>M_Camry</th>\n",
              "      <th>M_Camry4dr</th>\n",
              "      <th>M_CamryBase</th>\n",
              "      <th>M_CamryL</th>\n",
              "      <th>M_CamryLE</th>\n",
              "      <th>M_CamrySE</th>\n",
              "      <th>M_CamryXLE</th>\n",
              "    </tr>\n",
              "  </thead>\n",
              "  <tbody>\n",
              "    <tr>\n",
              "      <th>7</th>\n",
              "      <td>21995</td>\n",
              "      <td>2014</td>\n",
              "      <td>6480</td>\n",
              "      <td>False</td>\n",
              "      <td>False</td>\n",
              "      <td>False</td>\n",
              "      <td>True</td>\n",
              "      <td>False</td>\n",
              "      <td>False</td>\n",
              "      <td>False</td>\n",
              "    </tr>\n",
              "    <tr>\n",
              "      <th>11</th>\n",
              "      <td>13995</td>\n",
              "      <td>2014</td>\n",
              "      <td>39972</td>\n",
              "      <td>False</td>\n",
              "      <td>False</td>\n",
              "      <td>False</td>\n",
              "      <td>False</td>\n",
              "      <td>True</td>\n",
              "      <td>False</td>\n",
              "      <td>False</td>\n",
              "    </tr>\n",
              "    <tr>\n",
              "      <th>167</th>\n",
              "      <td>17941</td>\n",
              "      <td>2016</td>\n",
              "      <td>18989</td>\n",
              "      <td>False</td>\n",
              "      <td>False</td>\n",
              "      <td>False</td>\n",
              "      <td>False</td>\n",
              "      <td>False</td>\n",
              "      <td>True</td>\n",
              "      <td>False</td>\n",
              "    </tr>\n",
              "    <tr>\n",
              "      <th>225</th>\n",
              "      <td>12493</td>\n",
              "      <td>2014</td>\n",
              "      <td>51330</td>\n",
              "      <td>False</td>\n",
              "      <td>False</td>\n",
              "      <td>False</td>\n",
              "      <td>True</td>\n",
              "      <td>False</td>\n",
              "      <td>False</td>\n",
              "      <td>False</td>\n",
              "    </tr>\n",
              "    <tr>\n",
              "      <th>270</th>\n",
              "      <td>7994</td>\n",
              "      <td>2007</td>\n",
              "      <td>116065</td>\n",
              "      <td>False</td>\n",
              "      <td>True</td>\n",
              "      <td>False</td>\n",
              "      <td>False</td>\n",
              "      <td>False</td>\n",
              "      <td>False</td>\n",
              "      <td>False</td>\n",
              "    </tr>\n",
              "  </tbody>\n",
              "</table>\n",
              "</div>\n",
              "    <div class=\"colab-df-buttons\">\n",
              "\n",
              "  <div class=\"colab-df-container\">\n",
              "    <button class=\"colab-df-convert\" onclick=\"convertToInteractive('df-e873b961-d9d4-4e10-9467-1e75a056c07d')\"\n",
              "            title=\"Convert this dataframe to an interactive table.\"\n",
              "            style=\"display:none;\">\n",
              "\n",
              "  <svg xmlns=\"http://www.w3.org/2000/svg\" height=\"24px\" viewBox=\"0 -960 960 960\">\n",
              "    <path d=\"M120-120v-720h720v720H120Zm60-500h600v-160H180v160Zm220 220h160v-160H400v160Zm0 220h160v-160H400v160ZM180-400h160v-160H180v160Zm440 0h160v-160H620v160ZM180-180h160v-160H180v160Zm440 0h160v-160H620v160Z\"/>\n",
              "  </svg>\n",
              "    </button>\n",
              "\n",
              "  <style>\n",
              "    .colab-df-container {\n",
              "      display:flex;\n",
              "      gap: 12px;\n",
              "    }\n",
              "\n",
              "    .colab-df-convert {\n",
              "      background-color: #E8F0FE;\n",
              "      border: none;\n",
              "      border-radius: 50%;\n",
              "      cursor: pointer;\n",
              "      display: none;\n",
              "      fill: #1967D2;\n",
              "      height: 32px;\n",
              "      padding: 0 0 0 0;\n",
              "      width: 32px;\n",
              "    }\n",
              "\n",
              "    .colab-df-convert:hover {\n",
              "      background-color: #E2EBFA;\n",
              "      box-shadow: 0px 1px 2px rgba(60, 64, 67, 0.3), 0px 1px 3px 1px rgba(60, 64, 67, 0.15);\n",
              "      fill: #174EA6;\n",
              "    }\n",
              "\n",
              "    .colab-df-buttons div {\n",
              "      margin-bottom: 4px;\n",
              "    }\n",
              "\n",
              "    [theme=dark] .colab-df-convert {\n",
              "      background-color: #3B4455;\n",
              "      fill: #D2E3FC;\n",
              "    }\n",
              "\n",
              "    [theme=dark] .colab-df-convert:hover {\n",
              "      background-color: #434B5C;\n",
              "      box-shadow: 0px 1px 3px 1px rgba(0, 0, 0, 0.15);\n",
              "      filter: drop-shadow(0px 1px 2px rgba(0, 0, 0, 0.3));\n",
              "      fill: #FFFFFF;\n",
              "    }\n",
              "  </style>\n",
              "\n",
              "    <script>\n",
              "      const buttonEl =\n",
              "        document.querySelector('#df-e873b961-d9d4-4e10-9467-1e75a056c07d button.colab-df-convert');\n",
              "      buttonEl.style.display =\n",
              "        google.colab.kernel.accessAllowed ? 'block' : 'none';\n",
              "\n",
              "      async function convertToInteractive(key) {\n",
              "        const element = document.querySelector('#df-e873b961-d9d4-4e10-9467-1e75a056c07d');\n",
              "        const dataTable =\n",
              "          await google.colab.kernel.invokeFunction('convertToInteractive',\n",
              "                                                    [key], {});\n",
              "        if (!dataTable) return;\n",
              "\n",
              "        const docLinkHtml = 'Like what you see? Visit the ' +\n",
              "          '<a target=\"_blank\" href=https://colab.research.google.com/notebooks/data_table.ipynb>data table notebook</a>'\n",
              "          + ' to learn more about interactive tables.';\n",
              "        element.innerHTML = '';\n",
              "        dataTable['output_type'] = 'display_data';\n",
              "        await google.colab.output.renderOutput(dataTable, element);\n",
              "        const docLink = document.createElement('div');\n",
              "        docLink.innerHTML = docLinkHtml;\n",
              "        element.appendChild(docLink);\n",
              "      }\n",
              "    </script>\n",
              "  </div>\n",
              "\n",
              "\n",
              "<div id=\"df-594b9a10-f7cc-4a90-9629-9f70f4036ee7\">\n",
              "  <button class=\"colab-df-quickchart\" onclick=\"quickchart('df-594b9a10-f7cc-4a90-9629-9f70f4036ee7')\"\n",
              "            title=\"Suggest charts\"\n",
              "            style=\"display:none;\">\n",
              "\n",
              "<svg xmlns=\"http://www.w3.org/2000/svg\" height=\"24px\"viewBox=\"0 0 24 24\"\n",
              "     width=\"24px\">\n",
              "    <g>\n",
              "        <path d=\"M19 3H5c-1.1 0-2 .9-2 2v14c0 1.1.9 2 2 2h14c1.1 0 2-.9 2-2V5c0-1.1-.9-2-2-2zM9 17H7v-7h2v7zm4 0h-2V7h2v10zm4 0h-2v-4h2v4z\"/>\n",
              "    </g>\n",
              "</svg>\n",
              "  </button>\n",
              "\n",
              "<style>\n",
              "  .colab-df-quickchart {\n",
              "      --bg-color: #E8F0FE;\n",
              "      --fill-color: #1967D2;\n",
              "      --hover-bg-color: #E2EBFA;\n",
              "      --hover-fill-color: #174EA6;\n",
              "      --disabled-fill-color: #AAA;\n",
              "      --disabled-bg-color: #DDD;\n",
              "  }\n",
              "\n",
              "  [theme=dark] .colab-df-quickchart {\n",
              "      --bg-color: #3B4455;\n",
              "      --fill-color: #D2E3FC;\n",
              "      --hover-bg-color: #434B5C;\n",
              "      --hover-fill-color: #FFFFFF;\n",
              "      --disabled-bg-color: #3B4455;\n",
              "      --disabled-fill-color: #666;\n",
              "  }\n",
              "\n",
              "  .colab-df-quickchart {\n",
              "    background-color: var(--bg-color);\n",
              "    border: none;\n",
              "    border-radius: 50%;\n",
              "    cursor: pointer;\n",
              "    display: none;\n",
              "    fill: var(--fill-color);\n",
              "    height: 32px;\n",
              "    padding: 0;\n",
              "    width: 32px;\n",
              "  }\n",
              "\n",
              "  .colab-df-quickchart:hover {\n",
              "    background-color: var(--hover-bg-color);\n",
              "    box-shadow: 0 1px 2px rgba(60, 64, 67, 0.3), 0 1px 3px 1px rgba(60, 64, 67, 0.15);\n",
              "    fill: var(--button-hover-fill-color);\n",
              "  }\n",
              "\n",
              "  .colab-df-quickchart-complete:disabled,\n",
              "  .colab-df-quickchart-complete:disabled:hover {\n",
              "    background-color: var(--disabled-bg-color);\n",
              "    fill: var(--disabled-fill-color);\n",
              "    box-shadow: none;\n",
              "  }\n",
              "\n",
              "  .colab-df-spinner {\n",
              "    border: 2px solid var(--fill-color);\n",
              "    border-color: transparent;\n",
              "    border-bottom-color: var(--fill-color);\n",
              "    animation:\n",
              "      spin 1s steps(1) infinite;\n",
              "  }\n",
              "\n",
              "  @keyframes spin {\n",
              "    0% {\n",
              "      border-color: transparent;\n",
              "      border-bottom-color: var(--fill-color);\n",
              "      border-left-color: var(--fill-color);\n",
              "    }\n",
              "    20% {\n",
              "      border-color: transparent;\n",
              "      border-left-color: var(--fill-color);\n",
              "      border-top-color: var(--fill-color);\n",
              "    }\n",
              "    30% {\n",
              "      border-color: transparent;\n",
              "      border-left-color: var(--fill-color);\n",
              "      border-top-color: var(--fill-color);\n",
              "      border-right-color: var(--fill-color);\n",
              "    }\n",
              "    40% {\n",
              "      border-color: transparent;\n",
              "      border-right-color: var(--fill-color);\n",
              "      border-top-color: var(--fill-color);\n",
              "    }\n",
              "    60% {\n",
              "      border-color: transparent;\n",
              "      border-right-color: var(--fill-color);\n",
              "    }\n",
              "    80% {\n",
              "      border-color: transparent;\n",
              "      border-right-color: var(--fill-color);\n",
              "      border-bottom-color: var(--fill-color);\n",
              "    }\n",
              "    90% {\n",
              "      border-color: transparent;\n",
              "      border-bottom-color: var(--fill-color);\n",
              "    }\n",
              "  }\n",
              "</style>\n",
              "\n",
              "  <script>\n",
              "    async function quickchart(key) {\n",
              "      const quickchartButtonEl =\n",
              "        document.querySelector('#' + key + ' button');\n",
              "      quickchartButtonEl.disabled = true;  // To prevent multiple clicks.\n",
              "      quickchartButtonEl.classList.add('colab-df-spinner');\n",
              "      try {\n",
              "        const charts = await google.colab.kernel.invokeFunction(\n",
              "            'suggestCharts', [key], {});\n",
              "      } catch (error) {\n",
              "        console.error('Error during call to suggestCharts:', error);\n",
              "      }\n",
              "      quickchartButtonEl.classList.remove('colab-df-spinner');\n",
              "      quickchartButtonEl.classList.add('colab-df-quickchart-complete');\n",
              "    }\n",
              "    (() => {\n",
              "      let quickchartButtonEl =\n",
              "        document.querySelector('#df-594b9a10-f7cc-4a90-9629-9f70f4036ee7 button');\n",
              "      quickchartButtonEl.style.display =\n",
              "        google.colab.kernel.accessAllowed ? 'block' : 'none';\n",
              "    })();\n",
              "  </script>\n",
              "</div>\n",
              "\n",
              "    </div>\n",
              "  </div>\n"
            ],
            "application/vnd.google.colaboratory.intrinsic+json": {
              "type": "dataframe",
              "variable_name": "data",
              "summary": "{\n  \"name\": \"data\",\n  \"rows\": 10495,\n  \"fields\": [\n    {\n      \"column\": \"Price\",\n      \"properties\": {\n        \"dtype\": \"number\",\n        \"std\": 3922,\n        \"min\": 5002,\n        \"max\": 32444,\n        \"num_unique_values\": 3660,\n        \"samples\": [\n          15285,\n          17966,\n          13787\n        ],\n        \"semantic_type\": \"\",\n        \"description\": \"\"\n      }\n    },\n    {\n      \"column\": \"Year\",\n      \"properties\": {\n        \"dtype\": \"number\",\n        \"std\": 3,\n        \"min\": 1998,\n        \"max\": 2018,\n        \"num_unique_values\": 20,\n        \"samples\": [\n          2014,\n          2018,\n          2002\n        ],\n        \"semantic_type\": \"\",\n        \"description\": \"\"\n      }\n    },\n    {\n      \"column\": \"Mileage\",\n      \"properties\": {\n        \"dtype\": \"number\",\n        \"std\": 36791,\n        \"min\": 5,\n        \"max\": 232658,\n        \"num_unique_values\": 9913,\n        \"samples\": [\n          91918,\n          24261,\n          100093\n        ],\n        \"semantic_type\": \"\",\n        \"description\": \"\"\n      }\n    },\n    {\n      \"column\": \"M_Camry\",\n      \"properties\": {\n        \"dtype\": \"boolean\",\n        \"num_unique_values\": 2,\n        \"samples\": [\n          true,\n          false\n        ],\n        \"semantic_type\": \"\",\n        \"description\": \"\"\n      }\n    },\n    {\n      \"column\": \"M_Camry4dr\",\n      \"properties\": {\n        \"dtype\": \"boolean\",\n        \"num_unique_values\": 2,\n        \"samples\": [\n          true,\n          false\n        ],\n        \"semantic_type\": \"\",\n        \"description\": \"\"\n      }\n    },\n    {\n      \"column\": \"M_CamryBase\",\n      \"properties\": {\n        \"dtype\": \"boolean\",\n        \"num_unique_values\": 2,\n        \"samples\": [\n          true,\n          false\n        ],\n        \"semantic_type\": \"\",\n        \"description\": \"\"\n      }\n    },\n    {\n      \"column\": \"M_CamryL\",\n      \"properties\": {\n        \"dtype\": \"boolean\",\n        \"num_unique_values\": 2,\n        \"samples\": [\n          false,\n          true\n        ],\n        \"semantic_type\": \"\",\n        \"description\": \"\"\n      }\n    },\n    {\n      \"column\": \"M_CamryLE\",\n      \"properties\": {\n        \"dtype\": \"boolean\",\n        \"num_unique_values\": 2,\n        \"samples\": [\n          true,\n          false\n        ],\n        \"semantic_type\": \"\",\n        \"description\": \"\"\n      }\n    },\n    {\n      \"column\": \"M_CamrySE\",\n      \"properties\": {\n        \"dtype\": \"boolean\",\n        \"num_unique_values\": 2,\n        \"samples\": [\n          true,\n          false\n        ],\n        \"semantic_type\": \"\",\n        \"description\": \"\"\n      }\n    },\n    {\n      \"column\": \"M_CamryXLE\",\n      \"properties\": {\n        \"dtype\": \"boolean\",\n        \"num_unique_values\": 2,\n        \"samples\": [\n          true,\n          false\n        ],\n        \"semantic_type\": \"\",\n        \"description\": \"\"\n      }\n    }\n  ]\n}"
            }
          },
          "metadata": {},
          "execution_count": 4
        }
      ],
      "source": [
        "# Importación de librerías\n",
        "%matplotlib inline\n",
        "import pandas as pd\n",
        "\n",
        "# Lectura de la información de archivo .csv\n",
        "data = pd.read_csv('https://raw.githubusercontent.com/albahnsen/MIAD_ML_and_NLP/main/datasets/dataTrain_carListings.zip')\n",
        "\n",
        "# Preprocesamiento de datos para el taller\n",
        "data = data.loc[data['Model'].str.contains('Camry')].drop(['Make', 'State'], axis=1)\n",
        "data = data.join(pd.get_dummies(data['Model'], prefix='M'))\n",
        "data = data.drop(['Model'], axis=1)\n",
        "\n",
        "# Visualización dataset\n",
        "data.head()"
      ]
    },
    {
      "cell_type": "code",
      "execution_count": null,
      "metadata": {
        "id": "8L0zq6feE36A"
      },
      "outputs": [],
      "source": [
        "# Separación de variables predictoras (X) y variable de interés (y)\n",
        "y = data['Price']\n",
        "X = data.drop(['Price'], axis=1)"
      ]
    },
    {
      "cell_type": "code",
      "execution_count": null,
      "metadata": {
        "id": "K2vNRMNQE36C"
      },
      "outputs": [],
      "source": [
        "# Separación de datos en set de entrenamiento y test\n",
        "from sklearn.model_selection import train_test_split\n",
        "X_train, X_test, y_train, y_test = train_test_split(X, y, test_size=0.33, random_state=42)"
      ]
    },
    {
      "cell_type": "code",
      "execution_count": null,
      "metadata": {
        "colab": {
          "base_uri": "https://localhost:8080/"
        },
        "id": "HCLNI17dE36D",
        "outputId": "147f071b-d421-4ff7-d385-25c6bd0c31b2"
      },
      "outputs": [
        {
          "output_type": "execute_result",
          "data": {
            "text/plain": [
              "count    10495.000000\n",
              "mean     14538.403716\n",
              "std       3922.420961\n",
              "min       5002.000000\n",
              "25%      11999.000000\n",
              "50%      15000.000000\n",
              "75%      16999.000000\n",
              "max      32444.000000\n",
              "Name: Price, dtype: float64"
            ]
          },
          "metadata": {},
          "execution_count": 7
        }
      ],
      "source": [
        "estadisticas_precios = data['Price'].describe()\n",
        "estadisticas_precios"
      ]
    },
    {
      "cell_type": "markdown",
      "metadata": {
        "id": "ezoKO2WbE36F"
      },
      "source": [
        "### Punto 1 - Árbol de decisión manual\n",
        "\n",
        "En la celda 1 creen un árbol de decisión **manualmente**  que considere los set de entrenamiento y test definidos anteriormente y presenten el RMSE y MAE del modelo en el set de test."
      ]
    },
    {
      "cell_type": "code",
      "execution_count": null,
      "metadata": {
        "id": "38lLSML6E36G",
        "colab": {
          "base_uri": "https://localhost:8080/"
        },
        "outputId": "98790b09-3121-485b-de89-cd8512ae0c02"
      },
      "outputs": [
        {
          "output_type": "stream",
          "name": "stdout",
          "text": [
            "Best split: Year, at 2012.3, with gain 8790046.173046965\n",
            "RMSE: 2552.265051523914\n",
            "MAE: 1977.6071801131102\n"
          ]
        }
      ],
      "source": [
        "# Celda 1\n",
        "\n",
        "def mse(y):\n",
        "    return np.mean((y - np.mean(y))**2)\n",
        "\n",
        "def mse_impurity(X_col, y, split):\n",
        "    filter_l = X_col < split\n",
        "    y_l = y[filter_l]\n",
        "    y_r = y[~filter_l]\n",
        "    n_l = y_l.shape[0]\n",
        "    n_r = y_r.shape[0]\n",
        "    if n_l == 0 or n_r == 0:\n",
        "        return 0\n",
        "    mse_total = mse(y)\n",
        "    mse_l = mse(y_l)\n",
        "    mse_r = mse(y_r)\n",
        "    mse_reduction = mse_total - (n_l / (n_l + n_r) * mse_l + n_r / (n_l + n_r) * mse_r)\n",
        "    return mse_reduction\n",
        "\n",
        "def best_split(X, y, num_pct=10):\n",
        "    features = X.columns\n",
        "    best_split = [None, 0, -np.inf]  # feature, split, gain\n",
        "    for feature in features:\n",
        "        X_col = X[feature]\n",
        "        if X_col.dtype in [np.int64, np.float64]:\n",
        "            values = np.unique(X_col)\n",
        "            splits = np.percentile(values, np.linspace(0, 100, min(num_pct+1, len(values))))\n",
        "            for split in splits:\n",
        "                gain = mse_impurity(X_col, y, split)\n",
        "                if gain > best_split[2]:\n",
        "                    best_split = [feature, split, gain]\n",
        "    return best_split\n",
        "\n",
        "# Encontrar la mejor división\n",
        "feature, split, gain = best_split(X_train, y_train)\n",
        "print(f'Best split: {feature}, at {split}, with gain {gain}')\n",
        "\n",
        "# Aplicar la división\n",
        "X_train_split = X_train[feature] < split\n",
        "X_test_split = X_test[feature] < split\n",
        "\n",
        "# Predicciones simplificadas como la media de los precios en cada lado de la división\n",
        "y_train_pred = np.where(X_train_split, y_train[X_train_split].mean(), y_train[~X_train_split].mean())\n",
        "y_test_pred = np.where(X_test_split, y_train[X_train_split].mean(), y_train[~X_train_split].mean())\n",
        "\n",
        "# Calcular RMSE y MAE para el conjunto de test\n",
        "rmse = np.sqrt(mean_squared_error(y_test, y_test_pred))\n",
        "mae = mean_absolute_error(y_test, y_test_pred)\n",
        "\n",
        "print(f'RMSE: {rmse}')\n",
        "print(f'MAE: {mae}')"
      ]
    },
    {
      "cell_type": "code",
      "source": [
        "def tree_grow(X, y, level=0, max_depth=3, min_samples_split=10, num_pct=10):\n",
        "    if len(X) < min_samples_split or level == max_depth:\n",
        "        return {'y_pred': y.mean(), 'level': level}  # Nodo hoja\n",
        "    else:\n",
        "        # Encontrar la mejor división\n",
        "        feature, split, gain = best_split(X, y, num_pct)\n",
        "        if gain == -np.inf:\n",
        "            return {'y_pred': y.mean(), 'level': level}  # Nodo hoja\n",
        "        X_left = X[X[feature] < split]\n",
        "        y_left = y[X[feature] < split]\n",
        "        X_right = X[X[feature] >= split]\n",
        "        y_right = y[X[feature] >= split]\n",
        "\n",
        "        # Crear sub-árbol a la izquierda y derecha\n",
        "        left_tree = tree_grow(X_left, y_left, level + 1, max_depth, min_samples_split, num_pct)\n",
        "        right_tree = tree_grow(X_right, y_right, level + 1, max_depth, min_samples_split, num_pct)\n",
        "\n",
        "        return {'feature': feature, 'split': split, 'gain': gain, 'left': left_tree, 'right': right_tree, 'level': level}\n",
        "# Árbol\n",
        "tree = tree_grow(X_train, y_train, max_depth=3)\n",
        "tree"
      ],
      "metadata": {
        "colab": {
          "base_uri": "https://localhost:8080/"
        },
        "id": "Ul_6LyndtJEk",
        "outputId": "1b5cc476-0951-4d01-e15c-f9f49d26dc4b"
      },
      "execution_count": null,
      "outputs": [
        {
          "output_type": "execute_result",
          "data": {
            "text/plain": [
              "{'feature': 'Year',\n",
              " 'split': 2012.3,\n",
              " 'gain': 8790046.173046965,\n",
              " 'left': {'feature': 'Year',\n",
              "  'split': 2012.0,\n",
              "  'gain': 2959465.8517095316,\n",
              "  'left': {'feature': 'Mileage',\n",
              "   'split': 101164.5,\n",
              "   'gain': 1149468.9748928966,\n",
              "   'left': {'y_pred': 9810.149725274725, 'level': 3},\n",
              "   'right': {'y_pred': 7665.883401920439, 'level': 3},\n",
              "   'level': 2},\n",
              "  'right': {'feature': 'Mileage',\n",
              "   'split': 79458.0,\n",
              "   'gain': 1291249.4076021155,\n",
              "   'left': {'y_pred': 13578.11935483871, 'level': 3},\n",
              "   'right': {'y_pred': 11257.839805825242, 'level': 3},\n",
              "   'level': 2},\n",
              "  'level': 1},\n",
              " 'right': {'feature': 'Year',\n",
              "  'split': 2017.0,\n",
              "  'gain': 1620597.6461158656,\n",
              "  'left': {'feature': 'Mileage',\n",
              "   'split': 50852.40000000001,\n",
              "   'gain': 893550.675860357,\n",
              "   'left': {'y_pred': 16256.664415736936, 'level': 3},\n",
              "   'right': {'y_pred': 13863.638922888616, 'level': 3},\n",
              "   'level': 2},\n",
              "  'right': {'feature': 'Year',\n",
              "   'split': 2018.0,\n",
              "   'gain': 750065.9110053903,\n",
              "   'left': {'y_pred': 19105.525609756096, 'level': 3},\n",
              "   'right': {'y_pred': 25626.066666666666, 'level': 3},\n",
              "   'level': 2},\n",
              "  'level': 1},\n",
              " 'level': 0}"
            ]
          },
          "metadata": {},
          "execution_count": 9
        }
      ]
    },
    {
      "cell_type": "code",
      "source": [
        "def print_tree(tree, depth=0):\n",
        "    base_indent = \"    \" * depth\n",
        "    if 'split' not in tree:\n",
        "        print(f\"{base_indent}Leaf: Predict = {tree['y_pred']:.2f}\")\n",
        "    else:\n",
        "        print(f\"{base_indent}[Level {tree['level']}] Split at {tree['feature']} <= {tree['split']:.2f} with gain {tree['gain']:.2f}\")\n",
        "        print_tree(tree['left'], depth + 1)\n",
        "        print_tree(tree['right'], depth + 1)\n",
        "\n",
        "# Imprimir el árbol\n",
        "print_tree(tree)\n"
      ],
      "metadata": {
        "colab": {
          "base_uri": "https://localhost:8080/"
        },
        "id": "qXE4ozU1tRmW",
        "outputId": "87581e84-a83d-4acb-9853-d38af6ad6703"
      },
      "execution_count": null,
      "outputs": [
        {
          "output_type": "stream",
          "name": "stdout",
          "text": [
            "[Level 0] Split at Year <= 2012.30 with gain 8790046.17\n",
            "    [Level 1] Split at Year <= 2012.00 with gain 2959465.85\n",
            "        [Level 2] Split at Mileage <= 101164.50 with gain 1149468.97\n",
            "            Leaf: Predict = 9810.15\n",
            "            Leaf: Predict = 7665.88\n",
            "        [Level 2] Split at Mileage <= 79458.00 with gain 1291249.41\n",
            "            Leaf: Predict = 13578.12\n",
            "            Leaf: Predict = 11257.84\n",
            "    [Level 1] Split at Year <= 2017.00 with gain 1620597.65\n",
            "        [Level 2] Split at Mileage <= 50852.40 with gain 893550.68\n",
            "            Leaf: Predict = 16256.66\n",
            "            Leaf: Predict = 13863.64\n",
            "        [Level 2] Split at Year <= 2018.00 with gain 750065.91\n",
            "            Leaf: Predict = 19105.53\n",
            "            Leaf: Predict = 25626.07\n"
          ]
        }
      ]
    },
    {
      "cell_type": "markdown",
      "metadata": {
        "id": "Y3vqgeDkE36G"
      },
      "source": [
        "### Punto 2 - Bagging manual\n",
        "\n",
        "En la celda 2 creen un modelo bagging **manualmente** con 10 árboles de regresión y comenten sobre el desempeño del modelo."
      ]
    },
    {
      "cell_type": "code",
      "execution_count": null,
      "metadata": {
        "id": "YQYidKjLE36H"
      },
      "outputs": [],
      "source": [
        "\n",
        "# Celda 2\n",
        "import numpy as np\n",
        "from sklearn.utils import resample\n",
        "\n",
        "def bagging_trees(X, y, n_trees, max_depth=3):\n",
        "    trees = []\n",
        "    for i in range(n_trees):\n",
        "        X_sample, y_sample = resample(X, y)  # Bootstrap sample\n",
        "        tree = tree_grow(X_sample, y_sample, max_depth=max_depth)\n",
        "        trees.append(tree)\n",
        "    return trees\n",
        "\n",
        "# Entrenar 10 árboles de regresión\n",
        "n_trees = 10\n",
        "trees = bagging_trees(X_train, y_train, n_trees, max_depth=3)\n"
      ]
    },
    {
      "cell_type": "code",
      "source": [
        "def tree_predict(X, tree):\n",
        "    # Chequear si estamos en un nodo hoja\n",
        "    if 'split' not in tree:\n",
        "        return np.array([tree['y_pred']] * len(X))  # Retornar la predicción de la hoja para todas las entradas\n",
        "\n",
        "    # Si no es un nodo hoja, proceder a dividir los datos\n",
        "    feature, split = tree['feature'], tree['split']\n",
        "    left_indices = X[feature] < split  # Indices para la rama izquierda\n",
        "    right_indices = ~left_indices  # Indices para la rama derecha\n",
        "\n",
        "    # Inicializar un arreglo para almacenar las predicciones\n",
        "    predictions = np.zeros(len(X))\n",
        "\n",
        "    # Recursivamente predecir para cada lado del árbol\n",
        "    if tree['left']:  # Chequear si hay una subrama a la izquierda\n",
        "        predictions[left_indices] = tree_predict(X[left_indices], tree['left'])\n",
        "    if tree['right']:  # Chequear si hay una subrama a la derecha\n",
        "        predictions[right_indices] = tree_predict(X[right_indices], tree['right'])\n",
        "\n",
        "    return predictions\n",
        "\n",
        "\n",
        "def predict_bagging(trees, X):\n",
        "    # Calcula predicciones de todos los árboles\n",
        "    predictions = np.array([tree_predict(X, tree) for tree in trees])\n",
        "    # Promedia las predicciones\n",
        "    return np.mean(predictions, axis=0)\n",
        "\n",
        "# Predicciones en el conjunto de test\n",
        "y_pred_test = predict_bagging(trees, X_test)\n",
        "\n",
        "# Calcular RMSE y MAE\n",
        "from sklearn.metrics import mean_squared_error, mean_absolute_error\n",
        "\n",
        "rmse = np.sqrt(mean_squared_error(y_test, y_pred_test))\n",
        "mae = mean_absolute_error(y_test, y_pred_test)\n",
        "\n",
        "print(f'RMSE: {rmse}')\n",
        "print(f'MAE: {mae}')\n"
      ],
      "metadata": {
        "id": "KAB9C8XZtVpz",
        "outputId": "be0af369-08f0-4123-9bb7-1477654ed74d",
        "colab": {
          "base_uri": "https://localhost:8080/"
        }
      },
      "execution_count": null,
      "outputs": [
        {
          "output_type": "stream",
          "name": "stdout",
          "text": [
            "RMSE: 1834.2631895924828\n",
            "MAE: 1369.7727591174605\n"
          ]
        }
      ]
    },
    {
      "cell_type": "markdown",
      "metadata": {
        "id": "sePUxSsVE36H"
      },
      "source": [
        "### Punto 3 - Bagging con librería\n",
        "\n",
        "En la celda 3, con la librería sklearn, entrenen un modelo bagging con 10 árboles de regresión y el parámetro `max_features` igual a `log(n_features)` y comenten sobre el desempeño del modelo."
      ]
    },
    {
      "cell_type": "code",
      "execution_count": null,
      "metadata": {
        "id": "dwNY5iCHE36I",
        "outputId": "c58af182-8174-4295-fafa-d06be7161b52",
        "colab": {
          "base_uri": "https://localhost:8080/"
        }
      },
      "outputs": [
        {
          "output_type": "stream",
          "name": "stdout",
          "text": [
            "Error cuadrático medio (MSE): 5171694.547713897\n",
            "Coeficiente de determinación R^2: 0.6618955768695581\n",
            "RMSE: 2274.1360002677716\n"
          ]
        }
      ],
      "source": [
        "# Celda 3\n",
        "from sklearn.ensemble import BaggingRegressor\n",
        "from sklearn.tree import DecisionTreeRegressor\n",
        "from sklearn.model_selection import train_test_split\n",
        "from sklearn.metrics import mean_squared_error\n",
        "import numpy as np\n",
        "import pandas as pd\n",
        "\n",
        "\n",
        "# Definir el modelo Bagging\n",
        "bagging_model = BaggingRegressor(\n",
        "    base_estimator=DecisionTreeRegressor(),\n",
        "    n_estimators=10,\n",
        "    max_features=int(np.log2(X.shape[1])),\n",
        "    random_state=42\n",
        ")\n",
        "\n",
        "# Entrenar el modelo\n",
        "bagging_model.fit(X_train, y_train)\n",
        "\n",
        "# Predecir en el conjunto de prueba\n",
        "y_pred = bagging_model.predict(X_test)\n",
        "\n",
        "# MSE y R2 para evaluar el desempeño del modelo\n",
        "mse = mean_squared_error(y_test, y_pred)\n",
        "r2_score = bagging_model.score(X_test, y_test)\n",
        "rmse=np.sqrt(mse)\n",
        "\n",
        "print(f'Error cuadrático medio (MSE): {mse}')\n",
        "print(f'Coeficiente de determinación R^2: {r2_score}')\n",
        "print(f'RMSE: {rmse}')"
      ]
    },
    {
      "cell_type": "markdown",
      "metadata": {
        "id": "TijCoosME36J"
      },
      "source": [
        "Un R^2 de 0.708 significa que aproximadamente el 70.8% de la variación en el precio del automóvil puede ser explicada por el modelo de bagging.\n",
        "\n",
        "El MSE de 4456486 es considerablemente más alto que la media de los precios, lo que indica que los errores de predicción son, en promedio, substanciales.\n",
        "\n",
        "El RMSE es un poco más de la mitad de la desviación estándar de los precios. Esto significa que el error estándar de las predicciones del modelo es menor que la variabilidad natural de los precios, lo cual es positivo.\n",
        "\n",
        "En conclusión, el modelo de Bagging parece capturar una cantidad significativa de la variabilidad en los precios de los automóviles, aunque con un error de predicción promedio notable. Sería conveniente explorar maneras de reducir este error. A pesar de que el MSE parece alto, el coeficiente R2 de 0.708 sugiere que el modelo es capaz de explicar aproximadamente el 70.8% de la variación de los precios, lo cual es una indicación de un ajuste relativamente bueno."
      ]
    },
    {
      "cell_type": "markdown",
      "metadata": {
        "id": "-pOImWq2E36J"
      },
      "source": [
        "### Punto 4 - Random forest con librería\n",
        "\n",
        "En la celda 4, usando la librería sklearn entrenen un modelo de Randon Forest para regresión  y comenten sobre el desempeño del modelo."
      ]
    },
    {
      "cell_type": "code",
      "execution_count": null,
      "metadata": {
        "id": "G3-WxS-_E36K",
        "outputId": "4615167a-391a-4cb9-bb72-def0080925bd",
        "colab": {
          "base_uri": "https://localhost:8080/"
        }
      },
      "outputs": [
        {
          "output_type": "stream",
          "name": "stdout",
          "text": [
            "Error cuadrático medio (MSE): 3116678.915374798\n",
            "Coeficiente de determinación (R^2): 0.7962441677396794\n",
            "RMSE: 1765.4118259983413\n"
          ]
        }
      ],
      "source": [
        "# Celda 4\n",
        "from sklearn.ensemble import RandomForestRegressor\n",
        "from sklearn.model_selection import train_test_split\n",
        "from sklearn.metrics import mean_squared_error, r2_score\n",
        "import pandas as pd\n",
        "\n",
        "\n",
        "# Crear y entrenar el modelo de Random Forest\n",
        "random_forest_model = RandomForestRegressor(n_estimators=100, random_state=42)\n",
        "random_forest_model.fit(X_train, y_train)\n",
        "\n",
        "# Realizar predicciones con el conjunto de prueba\n",
        "y_pred = random_forest_model.predict(X_test)\n",
        "\n",
        "# Calcular métricas de rendimiento\n",
        "mse = mean_squared_error(y_test, y_pred)\n",
        "r2 = r2_score(y_test, y_pred)\n",
        "rmse=np.sqrt(mse)\n",
        "\n",
        "# Mostrar el desempeño del modelo\n",
        "print(f'Error cuadrático medio (MSE): {mse}')\n",
        "print(f'Coeficiente de determinación (R^2): {r2}')\n",
        "print(f'RMSE: {rmse}')"
      ]
    },
    {
      "cell_type": "markdown",
      "metadata": {
        "id": "sWr-P6dOE36K"
      },
      "source": [
        "Un R^2 de 0.796 indica que el modelo puede explicar aproximadamente el 79.6% de la variación en los precios de los automóviles, lo que es generalmente un buen resultado, indicando que el modelo tiene una capacidad predictiva bastante alta.\n",
        "\n",
        "Si lo comparamos con la desviación estándar, el RMSE es aproximadamente el 45% de la desviación estándar. Esto sugiere que los errores del modelo son menores que la mitad de la variabilidad estándar de los precios de los automóviles, lo cual es favorable\n",
        "\n",
        "Comparado con la media (14538 dólares), el RMSE es aproximadamente el 12.14% de esta cantidad. Esto significa que el error típico de las predicciones del modelo es un poco más que una décima parte del precio medio de un coche, lo cual puede considerarse razonable dependiendo del uso del modelo.\n",
        "\n",
        "\n"
      ]
    },
    {
      "cell_type": "markdown",
      "metadata": {
        "id": "bTqiXaxGE36L"
      },
      "source": [
        "### Punto 5 - Calibración de parámetros Random forest\n",
        "\n",
        "En la celda 5, calibren los parámetros max_depth, max_features y n_estimators del modelo de Randon Forest para regresión, comenten sobre el desempeño del modelo y describan cómo cada parámetro afecta el desempeño del modelo."
      ]
    },
    {
      "cell_type": "markdown",
      "source": [
        "A continuación se realiza la calibración del parametro **'max_depth'** este parametro controla la profundidad máxima de los árboles.Profundidades más profundas pueden capturar relaciones más complejas pero pueden llevar a sobreajuste mientras que profundidades más superficiales pueden simplificar el modelo pero pueden perder relaciones complejas."
      ],
      "metadata": {
        "id": "EmOFLZBRCCfz"
      }
    },
    {
      "cell_type": "code",
      "source": [
        "# Calibración de max_depth\n",
        "depth_range = range(1, 21)  # Rango de valores para max_depth\n",
        "\n",
        "# Lista para almacenar el error cuadrático medio (MSE) promedio para cada valor de max_depth\n",
        "mse_scores_depth = []\n",
        "\n",
        "# Uso de un 5-fold cross-validation para cada valor de max_depth\n",
        "for depth in depth_range:\n",
        "    clf = RandomForestRegressor(n_estimators=200, max_depth=depth, random_state=1, n_jobs=-1)\n",
        "    mse_scores_depth.append(-1 * cross_val_score(clf, X, y, cv=5, scoring='neg_mean_squared_error').mean())"
      ],
      "metadata": {
        "id": "yZO3KeZUdSfD"
      },
      "execution_count": null,
      "outputs": []
    },
    {
      "cell_type": "code",
      "source": [
        "# Gráfica del desempeño del modelo vs la cantidad de max_depth\n",
        "plt.plot(depth_range, mse_scores_depth)\n",
        "plt.xlabel('max_depth')\n",
        "plt.ylabel('Mean Squared Error')\n",
        "plt.show()\n",
        "best_depth = depth_range[np.argmin(mse_scores_depth)]\n",
        "best_depth\n"
      ],
      "metadata": {
        "colab": {
          "base_uri": "https://localhost:8080/",
          "height": 483
        },
        "id": "bvd3_QFMeW9_",
        "outputId": "db092925-393d-40fc-bbe5-73bbf42f9ebd"
      },
      "execution_count": null,
      "outputs": [
        {
          "output_type": "display_data",
          "data": {
            "text/plain": [
              "<Figure size 640x480 with 1 Axes>"
            ],
            "image/png": "[encoded data removed]"
          },
          "metadata": {}
        },
        {
          "output_type": "execute_result",
          "data": {
            "text/plain": [
              "8"
            ]
          },
          "metadata": {},
          "execution_count": 9
        }
      ]
    },
    {
      "cell_type": "markdown",
      "source": [
        "A continuación se realiza la calibración del parametro **'max_features'** este parametro controla el número máximo de variables consideradas para dividir un nodo. Más variables pueden hacer el modelo más robusto pero pueden aumentar la complejidad mientras que menos variables pueden simplificar el modelo pero pueden reducir su capacidad predictiva."
      ],
      "metadata": {
        "id": "GShEMDFDCpvD"
      }
    },
    {
      "cell_type": "code",
      "source": [
        "# Calibración de max_features\n",
        "feature_cols = X.columns\n",
        "feature_range = range(1, len(feature_cols) + 1)  # Rango de valores para max_features\n",
        "\n",
        "# Lista para almacenar el error cuadrático medio (MSE) promedio para cada valor de max_features\n",
        "mse_scores_features = []\n",
        "\n",
        "# Uso de un 5-fold cross-validation para cada valor de max_features\n",
        "for feature in feature_range:\n",
        "    clf = RandomForestRegressor(n_estimators=200, max_features=feature, random_state=1, n_jobs=-1)\n",
        "    mse_scores_features.append(-1 * cross_val_score(clf, X, y, cv=5, scoring='neg_mean_squared_error').mean())"
      ],
      "metadata": {
        "id": "KQlmSaBUfXH7"
      },
      "execution_count": null,
      "outputs": []
    },
    {
      "cell_type": "code",
      "source": [
        "# Gráfica del desempeño del modelo vs la cantidad de max_depth\n",
        "plt.plot(feature_range, mse_scores_features)\n",
        "plt.xlabel(' max_features')\n",
        "plt.ylabel('Mean Squared Error')\n",
        "plt.show()\n",
        "best_feature = feature_range[np.argmin(mse_scores_features)]\n",
        "best_feature"
      ],
      "metadata": {
        "colab": {
          "base_uri": "https://localhost:8080/",
          "height": 483
        },
        "id": "dmGe5IaThaWo",
        "outputId": "76d835d0-8f64-4266-a09b-f6786f8b0861"
      },
      "execution_count": null,
      "outputs": [
        {
          "output_type": "display_data",
          "data": {
            "text/plain": [
              "<Figure size 640x480 with 1 Axes>"
            ],
            "image/png": "[encoded data removed]"
          },
          "metadata": {}
        },
        {
          "output_type": "execute_result",
          "data": {
            "text/plain": [
              "9"
            ]
          },
          "metadata": {},
          "execution_count": 11
        }
      ]
    },
    {
      "cell_type": "markdown",
      "source": [
        "A continuación se realiza la calibración del parametro **'n_estimators'** este parametro indica la cantidad de árboles que se tendrá que construir. A medida que el parámetro aumenta de valor, mejora el desempeño del modelo, sin embargo, en un punto ya no se presenta ninguna mejora adicional."
      ],
      "metadata": {
        "id": "Q8np_1WTDxD-"
      }
    },
    {
      "cell_type": "code",
      "execution_count": null,
      "metadata": {
        "id": "NWo8melPE36L"
      },
      "outputs": [],
      "source": [
        "# Calibración de n_estimators\n",
        "estimator_range = range(10, 310, 10)  # Rango de valores para n_estimators\n",
        "\n",
        "# Lista para almacenar el error cuadrático medio (MSE) promedio para cada valor de n_estimators\n",
        "mse_scores_estimators = []\n",
        "\n",
        "# Uso de un 5-fold cross-validation para cada valor de n_estimators\n",
        "for estimator in estimator_range:\n",
        "    clf = RandomForestRegressor(n_estimators=estimator, max_depth=None, max_features='auto', random_state=1, n_jobs=-1)\n",
        "    mse_scores_estimators.append(-1 * cross_val_score(clf, X, y, cv=5, scoring='neg_mean_squared_error').mean())\n"
      ]
    },
    {
      "cell_type": "code",
      "source": [
        "# Gráfica del desempeño del modelo vs la cantidad de n_estimators\n",
        "plt.plot(estimator_range, mse_scores_estimators)\n",
        "plt.xlabel('n_estimators')\n",
        "plt.ylabel('Mean Squared Error')\n",
        "plt.show()\n",
        "best_estimators = estimator_range[np.argmin(mse_scores_estimators)]\n",
        "best_estimators"
      ],
      "metadata": {
        "colab": {
          "base_uri": "https://localhost:8080/",
          "height": 483
        },
        "id": "9FsaWoOdh7oc",
        "outputId": "fa664e7d-2613-4d63-ff65-974a636cedbb"
      },
      "execution_count": null,
      "outputs": [
        {
          "output_type": "display_data",
          "data": {
            "text/plain": [
              "<Figure size 640x480 with 1 Axes>"
            ],
            "image/png": "[encoded data removed]"
          },
          "metadata": {}
        },
        {
          "output_type": "execute_result",
          "data": {
            "text/plain": [
              "300"
            ]
          },
          "metadata": {},
          "execution_count": 13
        }
      ]
    },
    {
      "cell_type": "code",
      "source": [
        "# Definición del modelo con los mejores parámetros\n",
        "clf_rfc = RandomForestRegressor(n_estimators=best_estimators,\n",
        "                             max_depth=best_depth\n",
        ",\n",
        "                             max_features=best_feature,\n",
        "                             random_state=1,\n",
        "                             n_jobs=-1)\n",
        "\n",
        "# Entrenamiento del modelo\n",
        "clf_rfc.fit(X_train, y_train)\n",
        "y_pred = clf_rfc.predict(X_test)\n",
        "# Calcular métricas de rendimiento\n",
        "mse_rfc = mean_squared_error(y_test, y_pred)\n",
        "r2_rfc = r2_score(y_test, y_pred)\n",
        "rmse_rfc=np.sqrt(mse_rfc)\n",
        "\n",
        "# Mostrar el desempeño del modelo\n",
        "print(f'Error cuadrático medio (MSE): {mse}')\n",
        "print(f'Coeficiente de determinación (R^2): {r2}')\n",
        "print(f'RMSE: {rmse_rfc}')"
      ],
      "metadata": {
        "colab": {
          "base_uri": "https://localhost:8080/"
        },
        "id": "v7tBjnizmL6Q",
        "outputId": "b7dfc34e-45a7-4856-b9de-2be0bd4e5351"
      },
      "execution_count": null,
      "outputs": [
        {
          "output_type": "stream",
          "name": "stdout",
          "text": [
            "Error cuadrático medio (MSE): 3116678.915374798\n",
            "Coeficiente de determinación (R^2): 0.7962441677396794\n",
            "RMSE: 1565.0162673115353\n"
          ]
        }
      ]
    },
    {
      "cell_type": "markdown",
      "source": [
        "Comparando estos resultados del modelo de random forest sin calibrar con el anterior, se puede decir que\n",
        "\n",
        "El **MSE** del modelo calibrado (2449275.9) es menor que el MSE del modelo original (3116678.9), lo que indica que el modelo calibrado tiene un mejor ajuste a los datos de prueba.\n",
        "\n",
        "El coeficiente de determinación **R^2** del modelo calibrado (0.83) es mayor que el R^2 del modelo original (0.796), lo que sugiere que el modelo calibrado explica una mayor proporción de la varianza en los datos de prueba.\n",
        "\n",
        "El **RMSE** del modelo calibrado (1565.01) es menor que el RMSE del modelo original (1765.41), lo que indica que el modelo calibrado tiene un error de predicción medio más bajo en los datos de prueba.\n",
        "\n",
        "Tendiendo en estas métricas, se puede concluir que el modelo Random Forest calibrado tiene un mejor desempeño que el modelo original, ya que tiene un rendimiento superior en todas las métricas evaluadas."
      ],
      "metadata": {
        "id": "t8oBNHmlAjnf"
      }
    },
    {
      "cell_type": "markdown",
      "source": [],
      "metadata": {
        "id": "esV2DKBPBTIh"
      }
    },
    {
      "cell_type": "markdown",
      "metadata": {
        "id": "H4CKi6n2E36L"
      },
      "source": [
        "### Punto 6 - XGBoost con librería\n",
        "\n",
        "En la celda 6 implementen un modelo XGBoost de regresión con la librería sklearn y comenten sobre el desempeño del modelo."
      ]
    },
    {
      "cell_type": "code",
      "execution_count": null,
      "metadata": {
        "colab": {
          "base_uri": "https://localhost:8080/"
        },
        "id": "oXce-AYIE36M",
        "outputId": "f09ff601-b219-41ce-d871-889252cc3f63"
      },
      "outputs": [
        {
          "output_type": "stream",
          "name": "stdout",
          "text": [
            "Error cuadrático medio xboost inicial: 2576781.074646859\n",
            "Coeficiente de determinación (R^2) xgboost inicial: 0.8315404997841507\n",
            "RMSE: 1605.2355199928948\n"
          ]
        }
      ],
      "source": [
        "# Celda 6\n",
        "clf = XGBRegressor()\n",
        "clf\n",
        "\n",
        "# Entrenamiento (fit) y desempeño del modelo XGBRegressor\n",
        "clf.fit(X_train, y_train)\n",
        "y_pred = clf.predict(X_test)\n",
        "\n",
        "# Calcular el error cuadrático medio y r cuadrado\n",
        "mse_xgboost1 = mean_squared_error(y_test, y_pred)\n",
        "r2_xgboost1 = r2_score(y_test, y_pred)\n",
        "rmse_xgboost1=np.sqrt(mse_xgboost1)\n",
        "\n",
        "print(\"Error cuadrático medio xboost inicial:\", mse_xgboost1)\n",
        "print(f'Coeficiente de determinación (R^2) xgboost inicial: {r2_xgboost1}')\n",
        "print(f'RMSE: {rmse_xgboost1}')"
      ]
    },
    {
      "cell_type": "markdown",
      "source": [
        "\n",
        "Con el modelo XGBoost utilizando los parámetros predeterminados proporcionados por el paquete sklearn, se obtienen los siguientes resultados:\n",
        "\n",
        "El coeficiente de determinación $R^2$ es notablemente alto (0.83), lo que sugiere que el modelo explica aproximadamente el 83% de la variabilidad de los datos, lo cual es bastante satisfactorio.\n",
        "\n",
        "El Error Cuadrático Medio Raíz (RMSE) proporciona una medida de la diferencia promedio entre las predicciones del modelo y los valores reales. En este caso, el RMSE es aproximadamente 1605.23, lo que indica que las predicciones del modelo están desviadas en promedio por esa cantidad de la variable objetivo."
      ],
      "metadata": {
        "id": "M4kr6FRQy6V2"
      }
    },
    {
      "cell_type": "markdown",
      "metadata": {
        "id": "YdkfNvSvE36M"
      },
      "source": [
        "### Punto 7 - Calibración de parámetros XGBoost\n",
        "\n",
        "En la celda 7 calibren los parámetros learning rate, gamma y colsample_bytree del modelo XGBoost para regresión, comenten sobre el desempeño del modelo y describan cómo cada parámetro afecta el desempeño del modelo."
      ]
    },
    {
      "cell_type": "code",
      "execution_count": null,
      "metadata": {
        "colab": {
          "base_uri": "https://localhost:8080/"
        },
        "id": "X37MsoZCE36M",
        "outputId": "71068030-c464-47ec-949e-1cfe4dfbd341"
      },
      "outputs": [
        {
          "output_type": "stream",
          "name": "stdout",
          "text": [
            "Fitting 5 folds for each of 80 candidates, totalling 400 fits\n",
            "Mejores parámetros: {'colsample_bytree': 0.5, 'gamma': 0, 'learning_rate': 0.1}\n",
            "Error cuadrático medio xgboost parametros: 2399172.6520076604\n",
            "Coeficiente de determinación (R^2) xgboost parametros: 0.843151818419757\n",
            "RMSE: 1548.926290049872\n"
          ]
        }
      ],
      "source": [
        "# Celda 7\n",
        "param_grid = {\n",
        "    'learning_rate': [0.01, 0.1, 0.3, 0.5],\n",
        "    'gamma': [0, 0.1, 0.3, 0.5, 0.7],\n",
        "    'colsample_bytree': [0.2, 0.5, 0.7, 1.0]\n",
        "}\n",
        "\n",
        "model = XGBRegressor()\n",
        "\n",
        "# Ejecución de un grid search para buscar los mejores parametros\n",
        "grid_search = GridSearchCV(estimator=model, param_grid=param_grid, cv=5, n_jobs=-1, verbose=2)\n",
        "grid_search.fit(X_train, y_train)\n",
        "\n",
        "best_params = grid_search.best_params_\n",
        "print(\"Mejores parámetros:\", best_params)\n",
        "\n",
        "# Xgboost para regresión con los mejores parametros\n",
        "best_model = XGBRegressor(**best_params)\n",
        "best_model.fit(X_train, y_train)\n",
        "\n",
        "# Evaluación en la base de test\n",
        "y_pred = best_model.predict(X_test)\n",
        "\n",
        "# Calcular el error cuadrático medio y r cuadrado\n",
        "mse_xgboost2 = mean_squared_error(y_test, y_pred)\n",
        "r2_xgboost2 = r2_score(y_test, y_pred)\n",
        "rmse_xgboost2=np.sqrt(mse_xgboost2)\n",
        "\n",
        "print(\"Error cuadrático medio xgboost parametros:\", mse_xgboost2)\n",
        "print(f'Coeficiente de determinación (R^2) xgboost parametros: {r2_xgboost2}')\n",
        "print(f'RMSE: {rmse_xgboost2}')"
      ]
    },
    {
      "cell_type": "markdown",
      "source": [
        "Se realiza una grilla de parametros con learning rate, gamma y colsample_bytree.\n",
        "\n",
        "* **Learning rate:** El \"learning rate\" es como la velocidad a la que un algoritmo de aprendizaje automático \"aprende\" de los datos. Si es demasiado alto, puede \"saltar\" sobre la solución óptima. Si es demasiado bajo, puede llevar mucho tiempo llegar a la solución correcta. En resumen, es un ajuste importante para equilibrar entre la velocidad y la precisión del aprendizaje automático.\n",
        "* **Gamma:** La reducción mínima de pérdida requerida para realizar una partición adicional en un nodo hoja del árbol. Cuanto mayor sea el valor de gamma, más conservador será el algoritmo.\n",
        "* **colsample_bytree:** Es un parámetro que controla la proporción de características (columnas) que se utilizarán al construir cada árbol. Un valor bajo de colsample_bytree significa que se seleccionará una proporción menor de características para construir cada árbol, lo que puede ayudar a reducir el sobreajuste y mejorar la generalización del modelo. Por otro lado, un valor alto de colsample_bytree significa que se utilizará una proporción mayor de características, lo que puede resultar en un modelo más complejo y propenso al sobreajuste.\n",
        "\n",
        "La grilla nos arroja que los mejores parametros son los siguientes: Learning_rate= 0.1, colsample_bytree=0.5 y gamma=0, con el que obtenemos los siguientes resultados\n",
        "\n",
        "El r cuadrado es bastante alto (0.84), lo que sugiere que el modelo explica aproximadamente el 84% de la variabilidad de los datos, lo cual es bastante bueno.\n",
        "\n",
        "El RMSE proporciona una medida de cuánto se desvían, en promedio, las predicciones del modelo de los valores reales. En este caso, el RMSE es aproximadamente 1548.93, lo que significa que, en promedio, las predicciones del modelo están desviadas por esa cantidad de la variable objetivo."
      ],
      "metadata": {
        "id": "OhG9K2-yliVd"
      }
    },
    {
      "cell_type": "markdown",
      "metadata": {
        "id": "66MsuZxsE36N"
      },
      "source": [
        "### Punto 8 - Comparación y análisis de resultados\n",
        "En la celda 8 comparen los resultados obtenidos de los diferentes modelos (random forest y XGBoost) y comenten las ventajas del mejor modelo y las desventajas del modelo con el menor desempeño."
      ]
    },
    {
      "cell_type": "code",
      "execution_count": null,
      "metadata": {
        "id": "OIy7nR6vE36N",
        "colab": {
          "base_uri": "https://localhost:8080/",
          "height": 383
        },
        "outputId": "4243b13f-a68b-4c0c-c45a-df0c98b4bc8e"
      },
      "outputs": [
        {
          "output_type": "display_data",
          "data": {
            "text/plain": [
              "<Figure size 500x300 with 1 Axes>"
            ],
            "image/png": "[encoded data removed]"
          },
          "metadata": {}
        }
      ],
      "source": [
        "# Celda 8\n",
        "fig = plt.figure(figsize=(5, 3))\n",
        "ax = fig.add_axes([0,0,1,1])\n",
        "ax.set_title(\"Comparación de modelos por R cuadrado\")\n",
        "ejeX = ['xgboost','Xgboost calibrado', 'RF', 'RF calibrado']\n",
        "ejeY = [round(r2_xgboost1,4),round(r2_xgboost2,4),round(r2,4),round(r2_rfc,4) ]\n",
        "ax.bar(ejeX,ejeY)\n",
        "def addlabels(x,y,plotP):\n",
        "    for i in range(len(x)):\n",
        "        plotP.text(i,y[i],y[i])\n",
        "addlabels(ejeX,ejeY,plt)\n",
        "plt.show()"
      ]
    },
    {
      "cell_type": "code",
      "source": [
        "# Celda 8\n",
        "fig = plt.figure(figsize=(5, 3))\n",
        "ax = fig.add_axes([0,0,1,1])\n",
        "ax.set_title(\"Comparación de modelos por RMSE\")\n",
        "ejeX = ['xgboost','Xgboost calibrado', 'RF', 'RF calibrado']\n",
        "ejeY = [round(rmse_xgboost1,4),round(rmse_xgboost2,4),round(rmse,4),round(rmse_rfc,4)]\n",
        "ax.bar(ejeX,ejeY)\n",
        "def addlabels(x,y,plotP):\n",
        "    for i in range(len(x)):\n",
        "        plotP.text(i,y[i],y[i])\n",
        "addlabels(ejeX,ejeY,plt)\n",
        "plt.show()\n"
      ],
      "metadata": {
        "colab": {
          "base_uri": "https://localhost:8080/",
          "height": 383
        },
        "id": "W2_DIEHK5ttl",
        "outputId": "e2caced1-fd4c-4336-ee1a-12e45c6dd4aa"
      },
      "execution_count": null,
      "outputs": [
        {
          "output_type": "display_data",
          "data": {
            "text/plain": [
              "<Figure size 500x300 with 1 Axes>"
            ],
            "image/png": "[encoded data removed]"
          },
          "metadata": {}
        }
      ]
    },
    {
      "cell_type": "markdown",
      "source": [
        "Los resultados de las gráficas anteriores indican que calibrar cualquiera de los dos modelos produce mejoras significativas en comparación con no realizar ninguna calibración. En este caso, el XGBoost muestra el coeficiente de determinación $R^2$ más alto, con una diferencia mínima en comparación con el Random Forest calibrado. Asimismo, en términos de RMSE, observamos un comportamiento similar. Estos hallazgos nos llevan a concluir que el XGBoost calibrado es el modelo preferido para predecir el valor de un automóvil"
      ],
      "metadata": {
        "id": "VGBfujzt6iJG"
      }
    }
  ],
  "metadata": {
    "kernelspec": {
      "display_name": "Python 3",
      "language": "python",
      "name": "python3"
    },
    "language_info": {
      "codemirror_mode": {
        "name": "ipython",
        "version": 3
      },
      "file_extension": ".py",
      "mimetype": "text/x-python",
      "name": "python",
      "nbconvert_exporter": "python",
      "pygments_lexer": "ipython3",
      "version": "3.7.6"
    },
    "colab": {
      "provenance": []
    }
  },
  "nbformat": 4,
  "nbformat_minor": 0
}